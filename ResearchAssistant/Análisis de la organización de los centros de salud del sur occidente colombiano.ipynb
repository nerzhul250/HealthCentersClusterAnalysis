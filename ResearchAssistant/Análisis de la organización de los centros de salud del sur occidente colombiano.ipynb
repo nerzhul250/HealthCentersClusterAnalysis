{
 "cells": [
  {
   "cell_type": "markdown",
   "metadata": {},
   "source": [
    "Se importa todo lo necesario"
   ]
  },
  {
   "cell_type": "code",
   "execution_count": 3,
   "metadata": {},
   "outputs": [],
   "source": [
    "#numpy\n",
    "import numpy as np\n",
    "\n",
    "#sklearn\n",
    "from sklearn import preprocessing\n",
    "from sklearn.metrics.pairwise import cosine_similarity\n",
    "\n",
    "#pyclustering\n",
    "from pyclustering.cluster.center_initializer import kmeans_plusplus_initializer\n",
    "from pyclustering.cluster.kmeans import kmeans\n",
    "from pyclustering.utils import read_sample\n",
    "\n",
    "#silhouette to evaluate clusterization quality\n",
    "from pyclustering.cluster.silhouette import silhouette\n",
    "import dataScienceUtils as ut\n",
    "\n",
    "import pandas as pd"
   ]
  },
  {
   "cell_type": "markdown",
   "metadata": {},
   "source": [
    "Se define el path"
   ]
  },
  {
   "cell_type": "code",
   "execution_count": 4,
   "metadata": {},
   "outputs": [],
   "source": [
    "#define basic info\n",
    "path='rawDataToFormattedData\\\\PorCentrosDeSalud\\\\formattedDataPerformance.txt'"
   ]
  },
  {
   "cell_type": "markdown",
   "metadata": {},
   "source": [
    "Se leen y se preprocesan los datos"
   ]
  },
  {
   "cell_type": "code",
   "execution_count": 5,
   "metadata": {},
   "outputs": [],
   "source": [
    "# load list of points for cluster analysis\n",
    "init_sample = read_sample(path)\n",
    "number_of_data_points=len(init_sample)\n",
    "#preprocessing\n",
    "norm_sample=preprocessing.normalize(np.asarray(init_sample))"
   ]
  },
  {
   "cell_type": "markdown",
   "metadata": {},
   "source": [
    "Se definen funciones necesarias para el algoritmo genetico"
   ]
  },
  {
   "cell_type": "code",
   "execution_count": 6,
   "metadata": {},
   "outputs": [],
   "source": [
    "def get_random_individual(sample, k):\n",
    "    return kmeans_plusplus_initializer(sample,k, kmeans_plusplus_initializer.FARTHEST_CENTER_CANDIDATE).initialize()\n",
    "\n",
    "def compute_score(individual,sample):\n",
    "    kmeans_instance = kmeans(sample,individual)\n",
    "    kmeans_instance.process()\n",
    "    clusters = kmeans_instance.get_clusters()\n",
    "    dirtyscore = silhouette(sample, clusters).process().get_score()\n",
    "    score=[x if str(x)!='nan' else 0 for x in dirtyscore]\n",
    "    return np.mean(np.asarray(score))\n",
    "\n",
    "def custom_sort(individual):\n",
    "    return -individual[1]\n",
    "\n",
    "def cross(individual1,individual2,sample):\n",
    "    minimum_length=min(len(individual1[0]),len(individual2[0]))\n",
    "    maximum_length=max(len(individual1[0]),len(individual2[0]))\n",
    "    new_individual=[]\n",
    "    for i in range(minimum_length):\n",
    "        new_individual.append((individual1[0][i]+individual2[0][i])/2)\n",
    "    for i in range(minimum_length+1,(minimum_length+maximum_length)//2):\n",
    "        if len(individual1[0])==maximum_length:\n",
    "            new_individual.append(individual1[0][i])\n",
    "        else:\n",
    "            new_individual.append(individual2[0][i])\n",
    "    return (new_individual,compute_score(new_individual,sample))            "
   ]
  },
  {
   "cell_type": "markdown",
   "metadata": {},
   "source": [
    "Se definen hiperparametros del algoritmo genetico"
   ]
  },
  {
   "cell_type": "code",
   "execution_count": 7,
   "metadata": {},
   "outputs": [],
   "source": [
    "base_individuals=100\n",
    "number_of_keis=1\n",
    "number_of_clusters_k=4\n",
    "lucky_individuals=10\n",
    "generations=30"
   ]
  },
  {
   "cell_type": "markdown",
   "metadata": {},
   "source": [
    "Se inicializa la poblacion"
   ]
  },
  {
   "cell_type": "code",
   "execution_count": 8,
   "metadata": {},
   "outputs": [],
   "source": [
    "poblation=[get_random_individual(norm_sample,k)  for i in range(base_individuals) for k in range(number_of_clusters_k,number_of_keis+number_of_clusters_k)]\n",
    "poblation=[(x,compute_score(x,norm_sample)) for x in poblation]\n",
    "poblation.sort(key=custom_sort)"
   ]
  },
  {
   "cell_type": "markdown",
   "metadata": {},
   "source": [
    "Se corre el algoritmo genetico"
   ]
  },
  {
   "cell_type": "code",
   "execution_count": 9,
   "metadata": {},
   "outputs": [],
   "source": [
    "for t in range(30):\n",
    "    ofspring=[]\n",
    "    for i,x in enumerate(poblation):\n",
    "        for j,y in enumerate(poblation):\n",
    "            if i<j and i<lucky_individuals and j<lucky_individuals:\n",
    "                ofspring.append(cross(x,y,norm_sample))\n",
    "    for of in ofspring:\n",
    "        poblation.append(of)\n",
    "    poblation.sort(key=custom_sort)\n",
    "    poblation=poblation[:base_individuals]"
   ]
  },
  {
   "cell_type": "markdown",
   "metadata": {},
   "source": [
    "Se computan los agrupamientos del mejor individuo"
   ]
  },
  {
   "cell_type": "code",
   "execution_count": 10,
   "metadata": {},
   "outputs": [
    {
     "name": "stdout",
     "output_type": "stream",
     "text": [
      "0.4629665700150529\n",
      "[20, 21]\n",
      "[18]\n",
      "[0, 1, 3, 4, 5, 6, 7, 8, 9, 10, 11, 12, 13, 14, 15, 16, 17, 19]\n",
      "[2]\n"
     ]
    }
   ],
   "source": [
    "kmeans_instance = kmeans(norm_sample,poblation[0][0])\n",
    "kmeans_instance.process()\n",
    "clusters = kmeans_instance.get_clusters()\n",
    "print(poblation[0][1])\n",
    "for clusteri in clusters:\n",
    "    print(clusteri)"
   ]
  },
  {
   "cell_type": "markdown",
   "metadata": {},
   "source": [
    "Se cargan las encuestas organizacionales por cada hospital en pandas"
   ]
  },
  {
   "cell_type": "code",
   "execution_count": 90,
   "metadata": {},
   "outputs": [],
   "source": [
    "csvPath='rawDataToFormattedData\\\\PorCentrosDeSalud\\\\pandaData.csv'\n",
    "hospitales=pd.read_csv(csvPath,sep=',')"
   ]
  },
  {
   "cell_type": "code",
   "execution_count": 99,
   "metadata": {},
   "outputs": [],
   "source": [
    "visual_testing=np.asarray(init_sample);"
   ]
  },
  {
   "cell_type": "code",
   "execution_count": 111,
   "metadata": {},
   "outputs": [
    {
     "data": {
      "text/plain": [
       "array([[ 0.,  0.,  2.,  4.,  3.,  2.,  4.],\n",
       "       [ 0.,  0.,  0.,  1.,  6.,  5.,  3.],\n",
       "       [ 0.,  1.,  0.,  3.,  2.,  6.,  3.],\n",
       "       [ 0.,  0.,  2.,  3.,  6.,  2.,  2.],\n",
       "       [ 2.,  0.,  2.,  4.,  6.,  1.,  0.],\n",
       "       [ 3.,  0.,  1.,  1.,  7.,  3.,  0.],\n",
       "       [ 0.,  0.,  2.,  1.,  6.,  4.,  2.],\n",
       "       [ 0.,  0.,  3.,  4.,  6.,  1.,  1.],\n",
       "       [ 0.,  1.,  3.,  2.,  5.,  4.,  0.],\n",
       "       [ 2.,  2.,  5.,  1.,  3.,  2.,  0.],\n",
       "       [10.,  2.,  3.,  0.,  0.,  0.,  0.],\n",
       "       [ 3.,  1.,  8.,  2.,  1.,  0.,  0.],\n",
       "       [ 0.,  3.,  2.,  4.,  3.,  2.,  1.],\n",
       "       [ 0.,  1.,  2.,  5.,  3.,  3.,  1.],\n",
       "       [11.,  2.,  0.,  1.,  1.,  0.,  0.],\n",
       "       [ 4.,  1.,  6.,  2.,  1.,  1.,  0.],\n",
       "       [ 2.,  2.,  0.,  4.,  4.,  3.,  0.],\n",
       "       [ 1.,  3.,  4.,  3.,  3.,  1.,  0.],\n",
       "       [ 5.,  2.,  6.,  0.,  2.,  0.,  0.],\n",
       "       [ 1.,  3.,  7.,  1.,  1.,  1.,  1.],\n",
       "       [ 3.,  2.,  5.,  1.,  1.,  3.,  0.],\n",
       "       [ 8.,  4.,  3.,  0.,  0.,  0.,  0.],\n",
       "       [ 2.,  1.,  4.,  5.,  3.,  0.,  0.],\n",
       "       [ 0.,  3.,  5.,  7.,  0.,  0.,  0.],\n",
       "       [ 0.,  1.,  7.,  5.,  2.,  0.,  0.],\n",
       "       [ 3.,  2.,  4.,  5.,  1.,  0.,  0.],\n",
       "       [ 1.,  3.,  4.,  1.,  5.,  1.,  0.]])"
      ]
     },
     "execution_count": 111,
     "metadata": {},
     "output_type": "execute_result"
    }
   ],
   "source": [
    "visual_testing[5].reshape(27,7)"
   ]
  },
  {
   "cell_type": "code",
   "execution_count": 11,
   "metadata": {},
   "outputs": [
    {
     "ename": "NameError",
     "evalue": "name 'hospitales' is not defined",
     "output_type": "error",
     "traceback": [
      "\u001b[1;31m---------------------------------------------------------------------------\u001b[0m",
      "\u001b[1;31mNameError\u001b[0m                                 Traceback (most recent call last)",
      "\u001b[1;32m<ipython-input-11-f7c8146b1a0a>\u001b[0m in \u001b[0;36m<module>\u001b[1;34m\u001b[0m\n\u001b[1;32m----> 1\u001b[1;33m \u001b[0mhospitales\u001b[0m\u001b[1;33m[\u001b[0m\u001b[0mhospitales\u001b[0m\u001b[1;33m.\u001b[0m\u001b[0mID\u001b[0m\u001b[1;33m==\u001b[0m\u001b[1;36m20\u001b[0m\u001b[1;33m]\u001b[0m\u001b[1;33m\u001b[0m\u001b[1;33m\u001b[0m\u001b[0m\n\u001b[0m",
      "\u001b[1;31mNameError\u001b[0m: name 'hospitales' is not defined"
     ]
    }
   ],
   "source": [
    "hospitales[hospitales.ID==20]"
   ]
  },
  {
   "cell_type": "code",
   "execution_count": null,
   "metadata": {},
   "outputs": [],
   "source": []
  }
 ],
 "metadata": {
  "kernelspec": {
   "display_name": "Python 3",
   "language": "python",
   "name": "python3"
  },
  "language_info": {
   "codemirror_mode": {
    "name": "ipython",
    "version": 3
   },
   "file_extension": ".py",
   "mimetype": "text/x-python",
   "name": "python",
   "nbconvert_exporter": "python",
   "pygments_lexer": "ipython3",
   "version": "3.7.3"
  }
 },
 "nbformat": 4,
 "nbformat_minor": 2
}
